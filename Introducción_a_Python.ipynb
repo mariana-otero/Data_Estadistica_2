{
  "nbformat": 4,
  "nbformat_minor": 0,
  "metadata": {
    "colab": {
      "provenance": [],
      "include_colab_link": true
    },
    "kernelspec": {
      "name": "python3",
      "display_name": "Python 3"
    },
    "language_info": {
      "name": "python"
    }
  },
  "cells": [
    {
      "cell_type": "markdown",
      "metadata": {
        "id": "view-in-github",
        "colab_type": "text"
      },
      "source": [
        "<a href=\"https://colab.research.google.com/github/mariana-otero/Data_Estadistica_2/blob/master/Introducci%C3%B3n_a_Python.ipynb\" target=\"_parent\"><img src=\"https://colab.research.google.com/assets/colab-badge.svg\" alt=\"Open In Colab\"/></a>"
      ]
    },
    {
      "cell_type": "markdown",
      "source": [
        "# **Sesión : Introducción a Python**"
      ],
      "metadata": {
        "id": "_9C5b4jIn3N-"
      }
    },
    {
      "cell_type": "markdown",
      "source": [
        "Esta es nuestra primera sesión práctica de Python, donde aprenderemos las principales funcionalidades básicas del software."
      ],
      "metadata": {
        "id": "afdCdDsuoUVJ"
      }
    },
    {
      "cell_type": "markdown",
      "source": [
        "Puedo agregar un nuevo párrafo a mi notebook"
      ],
      "metadata": {
        "id": "itFP4t_y2H2J"
      }
    },
    {
      "cell_type": "code",
      "source": [
        "10+8"
      ],
      "metadata": {
        "colab": {
          "base_uri": "https://localhost:8080/"
        },
        "id": "t3YMoxJM2e3H",
        "outputId": "8865dd9f-925a-4a7f-a121-62d558f0dbe2"
      },
      "execution_count": null,
      "outputs": [
        {
          "output_type": "execute_result",
          "data": {
            "text/plain": [
              "18"
            ]
          },
          "metadata": {},
          "execution_count": 1
        }
      ]
    },
    {
      "cell_type": "code",
      "source": [
        "x = 10+8 # Celda para almacenar una variable (Esto es un comentario, Python no ejecutará los mensajes en verde seguidos por el #)"
      ],
      "metadata": {
        "id": "GYA8RrA7ovdh"
      },
      "execution_count": null,
      "outputs": []
    },
    {
      "cell_type": "code",
      "source": [
        "#Celda para almacenar una variable etc ...."
      ],
      "metadata": {
        "id": "bsHhjBIm3OQ6"
      },
      "execution_count": null,
      "outputs": []
    },
    {
      "cell_type": "code",
      "source": [
        "# Consultando el valor de la variable\n",
        "\n",
        "x"
      ],
      "metadata": {
        "colab": {
          "base_uri": "https://localhost:8080/"
        },
        "id": "f0qW1AMcprnX",
        "outputId": "e75cb5de-af62-4803-8f85-7a28e8776043"
      },
      "execution_count": null,
      "outputs": [
        {
          "output_type": "execute_result",
          "data": {
            "text/plain": [
              "18"
            ]
          },
          "metadata": {},
          "execution_count": 6
        }
      ]
    },
    {
      "cell_type": "code",
      "source": [
        "# Función \"print\" que permite mostrar algún mensaje en pantalla\n",
        "\n",
        "print(\"Juan tiene\", x+3, \"años\")"
      ],
      "metadata": {
        "colab": {
          "base_uri": "https://localhost:8080/"
        },
        "id": "Fee8n31kqCoO",
        "outputId": "7c8e0fde-796f-4a20-95fe-cb323d670c8a"
      },
      "execution_count": null,
      "outputs": [
        {
          "output_type": "stream",
          "name": "stdout",
          "text": [
            "Juan tiene 21 años\n"
          ]
        }
      ]
    },
    {
      "cell_type": "code",
      "source": [
        "# Eliminando una variable mediante la variable del\n",
        "\n",
        "del x"
      ],
      "metadata": {
        "id": "JFFxtINyrZt4"
      },
      "execution_count": null,
      "outputs": []
    },
    {
      "cell_type": "code",
      "source": [
        "# Volviendo a consultar la variable\n",
        "\n",
        "x"
      ],
      "metadata": {
        "colab": {
          "base_uri": "https://localhost:8080/",
          "height": 213
        },
        "id": "aSZd0gMCrw-R",
        "outputId": "d3825cd9-79bd-4694-cd68-c8a9fcc29f54"
      },
      "execution_count": null,
      "outputs": [
        {
          "output_type": "error",
          "ename": "NameError",
          "evalue": "ignored",
          "traceback": [
            "\u001b[0;31m---------------------------------------------------------------------------\u001b[0m",
            "\u001b[0;31mNameError\u001b[0m                                 Traceback (most recent call last)",
            "\u001b[0;32m<ipython-input-11-aa521a922174>\u001b[0m in \u001b[0;36m<cell line: 3>\u001b[0;34m()\u001b[0m\n\u001b[1;32m      1\u001b[0m \u001b[0;31m# Volviendo a consultar la variable\u001b[0m\u001b[0;34m\u001b[0m\u001b[0;34m\u001b[0m\u001b[0m\n\u001b[1;32m      2\u001b[0m \u001b[0;34m\u001b[0m\u001b[0m\n\u001b[0;32m----> 3\u001b[0;31m \u001b[0mx\u001b[0m\u001b[0;34m\u001b[0m\u001b[0;34m\u001b[0m\u001b[0m\n\u001b[0m",
            "\u001b[0;31mNameError\u001b[0m: name 'x' is not defined"
          ]
        }
      ]
    },
    {
      "cell_type": "markdown",
      "source": [
        "# **Tipos de datos**"
      ],
      "metadata": {
        "id": "8HMIzhT9sQan"
      }
    },
    {
      "cell_type": "code",
      "source": [
        "# Crear la variable pi\n",
        "\n",
        "pi = 3.14159"
      ],
      "metadata": {
        "id": "7RhInOvWsUqD"
      },
      "execution_count": null,
      "outputs": []
    },
    {
      "cell_type": "code",
      "source": [
        "pi"
      ],
      "metadata": {
        "colab": {
          "base_uri": "https://localhost:8080/"
        },
        "id": "Qj_EI-1Wsc2l",
        "outputId": "75f567f7-7048-4cc6-d45a-4b20b4befc56"
      },
      "execution_count": null,
      "outputs": [
        {
          "output_type": "execute_result",
          "data": {
            "text/plain": [
              "3.14159"
            ]
          },
          "metadata": {},
          "execution_count": 13
        }
      ]
    },
    {
      "cell_type": "code",
      "source": [
        "type(pi) # type permite identificar el tipo de dato o variable que estamos explorando"
      ],
      "metadata": {
        "colab": {
          "base_uri": "https://localhost:8080/"
        },
        "id": "mkaNok9-sgYV",
        "outputId": "8e20c980-2c65-431d-9fc4-83f324895011"
      },
      "execution_count": null,
      "outputs": [
        {
          "output_type": "execute_result",
          "data": {
            "text/plain": [
              "float"
            ]
          },
          "metadata": {},
          "execution_count": 14
        }
      ]
    },
    {
      "cell_type": "code",
      "source": [
        "# float es una variable de valor numérico decimal\n",
        "# int es una variable de valor entero\n",
        "# string es una variable de valor cualitativo (cadena)"
      ],
      "metadata": {
        "id": "IJLan0__s2Bt"
      },
      "execution_count": null,
      "outputs": []
    },
    {
      "cell_type": "code",
      "source": [
        "entero = 1200"
      ],
      "metadata": {
        "id": "kJ-LV9L5tK6S"
      },
      "execution_count": null,
      "outputs": []
    },
    {
      "cell_type": "code",
      "source": [
        "type(entero)"
      ],
      "metadata": {
        "colab": {
          "base_uri": "https://localhost:8080/"
        },
        "id": "Vn0ASt3wtab1",
        "outputId": "6e970f47-6f03-4319-bbd2-b7020079a55c"
      },
      "execution_count": null,
      "outputs": [
        {
          "output_type": "execute_result",
          "data": {
            "text/plain": [
              "int"
            ]
          },
          "metadata": {},
          "execution_count": 17
        }
      ]
    },
    {
      "cell_type": "code",
      "source": [
        "# No se pueden crear variables cuyo nombre empiece con un número\n",
        "\n",
        "4x = 18"
      ],
      "metadata": {
        "colab": {
          "base_uri": "https://localhost:8080/",
          "height": 142
        },
        "id": "-2bvzB6dtber",
        "outputId": "957b724a-119b-4b05-9837-379456a7534e"
      },
      "execution_count": null,
      "outputs": [
        {
          "output_type": "error",
          "ename": "SyntaxError",
          "evalue": "ignored",
          "traceback": [
            "\u001b[0;36m  File \u001b[0;32m\"<ipython-input-18-ac12209f4625>\"\u001b[0;36m, line \u001b[0;32m3\u001b[0m\n\u001b[0;31m    4x = 18\u001b[0m\n\u001b[0m    ^\u001b[0m\n\u001b[0;31mSyntaxError\u001b[0m\u001b[0;31m:\u001b[0m invalid decimal literal\n"
          ]
        }
      ]
    },
    {
      "cell_type": "code",
      "source": [
        "# Hay palabras que son reservadas (ya utilizadas por python para otras funciones) y que no pueden usarse como nombre de variables\n",
        "\n",
        "print = 340"
      ],
      "metadata": {
        "id": "VMZOuboWtv07"
      },
      "execution_count": null,
      "outputs": []
    },
    {
      "cell_type": "code",
      "source": [
        "del print"
      ],
      "metadata": {
        "id": "xM643EgvuFbE"
      },
      "execution_count": null,
      "outputs": []
    },
    {
      "cell_type": "code",
      "source": [
        "del = 450"
      ],
      "metadata": {
        "colab": {
          "base_uri": "https://localhost:8080/",
          "height": 142
        },
        "id": "IO1s549MuH7s",
        "outputId": "ffc498e5-3a98-4819-8882-6eb836b501dd"
      },
      "execution_count": null,
      "outputs": [
        {
          "output_type": "error",
          "ename": "SyntaxError",
          "evalue": "ignored",
          "traceback": [
            "\u001b[0;36m  File \u001b[0;32m\"<ipython-input-23-331634811798>\"\u001b[0;36m, line \u001b[0;32m1\u001b[0m\n\u001b[0;31m    del = 450\u001b[0m\n\u001b[0m        ^\u001b[0m\n\u001b[0;31mSyntaxError\u001b[0m\u001b[0;31m:\u001b[0m invalid syntax\n"
          ]
        }
      ]
    },
    {
      "cell_type": "code",
      "source": [
        "# En python la función print se puede usar varias veces en una celda\n",
        "\n",
        "print(\"El valor de pi es\", pi)\n",
        "print(\"El valor de pi al cuadrado es\", pi*pi)"
      ],
      "metadata": {
        "colab": {
          "base_uri": "https://localhost:8080/"
        },
        "id": "ryo7cgdvuOJg",
        "outputId": "b2ca7761-9dea-4f50-e994-d3362e459413"
      },
      "execution_count": null,
      "outputs": [
        {
          "output_type": "stream",
          "name": "stdout",
          "text": [
            "El valor de pi es 3.14159\n",
            "El valor de pi al cuadrado es 9.869587728099999\n"
          ]
        }
      ]
    },
    {
      "cell_type": "code",
      "source": [
        "# Variables tipo string\n",
        "\n",
        "especializacion = \"DMC\""
      ],
      "metadata": {
        "id": "8XWwhC_yvDJm"
      },
      "execution_count": null,
      "outputs": []
    },
    {
      "cell_type": "code",
      "source": [
        "type(especializacion)"
      ],
      "metadata": {
        "colab": {
          "base_uri": "https://localhost:8080/"
        },
        "id": "V6WcuJzFvfOl",
        "outputId": "14da2cb6-11e3-427f-f7dc-867fed529eb1"
      },
      "execution_count": null,
      "outputs": [
        {
          "output_type": "execute_result",
          "data": {
            "text/plain": [
              "str"
            ]
          },
          "metadata": {},
          "execution_count": 26
        }
      ]
    },
    {
      "cell_type": "code",
      "source": [
        "1235 == 1200+36"
      ],
      "metadata": {
        "colab": {
          "base_uri": "https://localhost:8080/"
        },
        "id": "WxZpo876vhgZ",
        "outputId": "789ad2a3-9c6d-4458-bd1d-8bf335186137"
      },
      "execution_count": null,
      "outputs": [
        {
          "output_type": "execute_result",
          "data": {
            "text/plain": [
              "False"
            ]
          },
          "metadata": {},
          "execution_count": 31
        }
      ]
    },
    {
      "cell_type": "code",
      "source": [
        "suma = 235324 + 2134556"
      ],
      "metadata": {
        "id": "Pcy7hz8pwdIn"
      },
      "execution_count": null,
      "outputs": []
    },
    {
      "cell_type": "code",
      "source": [
        "suma"
      ],
      "metadata": {
        "colab": {
          "base_uri": "https://localhost:8080/"
        },
        "id": "pSRanInMwhY_",
        "outputId": "6b345668-dc6a-4ec6-aaa4-428555e5674f"
      },
      "execution_count": null,
      "outputs": [
        {
          "output_type": "execute_result",
          "data": {
            "text/plain": [
              "2369880"
            ]
          },
          "metadata": {},
          "execution_count": 28
        }
      ]
    },
    {
      "cell_type": "code",
      "source": [
        "19356 - 1843"
      ],
      "metadata": {
        "colab": {
          "base_uri": "https://localhost:8080/"
        },
        "id": "hC31frBewiEH",
        "outputId": "2232fb74-f065-40c3-d6f6-4d01d67c03c7"
      },
      "execution_count": null,
      "outputs": [
        {
          "output_type": "execute_result",
          "data": {
            "text/plain": [
              "17513"
            ]
          },
          "metadata": {},
          "execution_count": 29
        }
      ]
    },
    {
      "cell_type": "code",
      "source": [
        "2.5435 * 123"
      ],
      "metadata": {
        "id": "tYYm46A9wl9I",
        "outputId": "3db7f736-3bc9-44a0-f470-1992eb3c4f54",
        "colab": {
          "base_uri": "https://localhost:8080/"
        }
      },
      "execution_count": null,
      "outputs": [
        {
          "output_type": "execute_result",
          "data": {
            "text/plain": [
              "312.8505"
            ]
          },
          "metadata": {},
          "execution_count": 30
        }
      ]
    },
    {
      "cell_type": "code",
      "source": [
        "34567 / 18"
      ],
      "metadata": {
        "id": "wjYAzes-wpQE",
        "outputId": "e8538b6e-b7b0-43cf-9186-5e810014e61c",
        "colab": {
          "base_uri": "https://localhost:8080/"
        }
      },
      "execution_count": null,
      "outputs": [
        {
          "output_type": "execute_result",
          "data": {
            "text/plain": [
              "1920.388888888889"
            ]
          },
          "metadata": {},
          "execution_count": 31
        }
      ]
    },
    {
      "cell_type": "code",
      "source": [
        "# Potencia\n",
        "\n",
        "1000 ** 5"
      ],
      "metadata": {
        "id": "KbViG75NwsDf",
        "colab": {
          "base_uri": "https://localhost:8080/"
        },
        "outputId": "c30d63b7-e4db-4340-d04f-ebd410b896bd"
      },
      "execution_count": null,
      "outputs": [
        {
          "output_type": "execute_result",
          "data": {
            "text/plain": [
              "1000000000000000"
            ]
          },
          "metadata": {},
          "execution_count": 32
        }
      ]
    },
    {
      "cell_type": "code",
      "source": [
        "# Igualdad 23000 con 20000+3000\n",
        "\n",
        "23000 == 20000+3000"
      ],
      "metadata": {
        "colab": {
          "base_uri": "https://localhost:8080/"
        },
        "id": "o71nEuljyQc9",
        "outputId": "66469ff7-0489-47ab-b5d1-919e9287d1e9"
      },
      "execution_count": null,
      "outputs": [
        {
          "output_type": "execute_result",
          "data": {
            "text/plain": [
              "True"
            ]
          },
          "metadata": {},
          "execution_count": 33
        }
      ]
    },
    {
      "cell_type": "code",
      "source": [
        "# Desigualdad\n",
        "\n",
        "23000 != 23000+1"
      ],
      "metadata": {
        "colab": {
          "base_uri": "https://localhost:8080/"
        },
        "id": "9GQmj2OvyhAr",
        "outputId": "95ae9ea0-4e81-44cb-88c1-993f457558ef"
      },
      "execution_count": null,
      "outputs": [
        {
          "output_type": "execute_result",
          "data": {
            "text/plain": [
              "True"
            ]
          },
          "metadata": {},
          "execution_count": 33
        }
      ]
    },
    {
      "cell_type": "code",
      "source": [],
      "metadata": {
        "id": "-qSb_bVryoCa"
      },
      "execution_count": null,
      "outputs": []
    }
  ]
}